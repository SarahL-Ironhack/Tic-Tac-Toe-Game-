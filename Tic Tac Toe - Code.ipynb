{
 "cells": [
  {
   "cell_type": "code",
   "execution_count": 14,
   "id": "9e945d7f",
   "metadata": {},
   "outputs": [
    {
     "name": "stdout",
     "output_type": "stream",
     "text": [
      "{'7': ' ', '8': ' ', '9': ' ', '4': ' ', '5': ' ', '6': ' ', '1': ' ', '2': ' ', '3': ' '}\n"
     ]
    }
   ],
   "source": [
    "gaming_board = {\n",
    "    '7':' ','8':' ','9':' ',\n",
    "    '4':' ','5':' ','6':' ',\n",
    "    '1':' ','2':' ','3':' '}\n",
    "print(gaming_board)"
   ]
  },
  {
   "cell_type": "code",
   "execution_count": 17,
   "id": "267052c9",
   "metadata": {},
   "outputs": [
    {
     "name": "stdout",
     "output_type": "stream",
     "text": [
      " | | \n",
      "-+-+-\n",
      " | | \n",
      "-+-+-\n",
      " | | \n"
     ]
    }
   ],
   "source": [
    "def board_visual():\n",
    "    print(gaming_board['7'] + '|' + gaming_board['8'] + '|' + gaming_board['9'])\n",
    "    print('-+-+-')\n",
    "    print(gaming_board['4'] + '|' + gaming_board['5'] + '|' + gaming_board['6'])\n",
    "    print('-+-+-')\n",
    "    print(gaming_board['1'] + '|' + gaming_board['2'] + '|' + gaming_board['3'])\n",
    "\n",
    "board_visual()"
   ]
  },
  {
   "cell_type": "code",
   "execution_count": null,
   "id": "a9dd96d1",
   "metadata": {},
   "outputs": [],
   "source": [
    "Player_1 = 'X'\n",
    "Player_2 = 'O'"
   ]
  },
  {
   "cell_type": "code",
   "execution_count": null,
   "id": "9feb5d8a",
   "metadata": {},
   "outputs": [],
   "source": []
  },
  {
   "cell_type": "code",
   "execution_count": null,
   "id": "473c0c24",
   "metadata": {},
   "outputs": [],
   "source": []
  }
 ],
 "metadata": {
  "kernelspec": {
   "display_name": "Python 3",
   "language": "python",
   "name": "python3"
  },
  "language_info": {
   "codemirror_mode": {
    "name": "ipython",
    "version": 3
   },
   "file_extension": ".py",
   "mimetype": "text/x-python",
   "name": "python",
   "nbconvert_exporter": "python",
   "pygments_lexer": "ipython3",
   "version": "3.8.8"
  }
 },
 "nbformat": 4,
 "nbformat_minor": 5
}
